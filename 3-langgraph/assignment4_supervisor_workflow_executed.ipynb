{
 "cells": [
  {
   "cell_type": "markdown",
   "metadata": {},
   "source": [
    "# Assignment 4: Supervisor Node with Multi-Agent Workflow\n",
    "\n",
    "This notebook implements a LangGraph workflow with:\n",
    "1. Supervisor node\n",
    "2. Router function\n",
    "3. Three processing nodes: LLM, RAG, Web Crawler\n",
    "4. Validation node with retry logic\n",
    "5. Final output generation"
   ]
  },
  {
   "cell_type": "code",
   "execution_count": 1,
   "metadata": {
    "execution": {
     "iopub.execute_input": "2025-06-11T06:20:00.630545Z",
     "iopub.status.busy": "2025-06-11T06:20:00.630425Z",
     "iopub.status.idle": "2025-06-11T06:20:00.640987Z",
     "shell.execute_reply": "2025-06-11T06:20:00.640690Z"
    }
   },
   "outputs": [],
   "source": [
    "# Environment setup\n",
    "import os\n",
    "from dotenv import load_dotenv\n",
    "\n",
    "load_dotenv()\n",
    "\n",
    "# API Keys\n",
    "os.environ[\"GROQ_API_KEY\"] = os.getenv(\"GROQ_API_KEY\")\n",
    "os.environ[\"TAVILY_API_KEY\"] = os.getenv(\"TAVILY_API_KEY\")\n",
    "\n",
    "# Langsmith Tracking and Tracing\n",
    "os.environ[\"LANGCHAIN_PROJECT\"] = os.getenv(\"LANGCHAIN_PROJECT\")\n",
    "os.environ[\"LANGCHAIN_API_KEY\"] = os.getenv(\"LANGCHAIN_API_KEY\")\n",
    "os.environ[\"LANGCHAIN_TRACING_V2\"] = \"true\""
   ]
  },
  {
   "cell_type": "code",
   "execution_count": 2,
   "metadata": {
    "execution": {
     "iopub.execute_input": "2025-06-11T06:20:00.642554Z",
     "iopub.status.busy": "2025-06-11T06:20:00.642438Z",
     "iopub.status.idle": "2025-06-11T06:20:01.113791Z",
     "shell.execute_reply": "2025-06-11T06:20:01.113516Z"
    }
   },
   "outputs": [],
   "source": [
    "# Import required libraries\n",
    "from typing import Literal, List, Dict, Any\n",
    "from pydantic import BaseModel, Field, validator\n",
    "from langgraph.graph import StateGraph, END\n",
    "from langchain_groq import ChatGroq\n",
    "from langchain_community.tools.tavily_search import TavilySearchResults\n",
    "from langchain_core.messages import HumanMessage, SystemMessage\n",
    "from langchain_core.prompts import ChatPromptTemplate\n",
    "from langchain_community.vectorstores import FAISS\n",
    "from langchain_community.embeddings import HuggingFaceEmbeddings\n",
    "from langchain_text_splitters import RecursiveCharacterTextSplitter\n",
    "from langchain_community.document_loaders import TextLoader\n",
    "import json\n",
    "import re"
   ]
  },
  {
   "cell_type": "code",
   "execution_count": 3,
   "metadata": {
    "execution": {
     "iopub.execute_input": "2025-06-11T06:20:01.115443Z",
     "iopub.status.busy": "2025-06-11T06:20:01.115311Z",
     "iopub.status.idle": "2025-06-11T06:20:01.119673Z",
     "shell.execute_reply": "2025-06-11T06:20:01.119401Z"
    }
   },
   "outputs": [
    {
     "name": "stderr",
     "output_type": "stream",
     "text": [
      "/var/folders/bl/xc5d5vc16wx60khkhwlcs3m40000gn/T/ipykernel_93589/1490453269.py:14: PydanticDeprecatedSince20: Pydantic V1 style `@validator` validators are deprecated. You should migrate to Pydantic V2 style `@field_validator` validators, see the migration guide for more details. Deprecated in Pydantic V2.0 to be removed in V3.0. See Pydantic V2 Migration Guide at https://errors.pydantic.dev/2.11/migration/\n",
      "  @validator('query')\n",
      "/var/folders/bl/xc5d5vc16wx60khkhwlcs3m40000gn/T/ipykernel_93589/1490453269.py:20: PydanticDeprecatedSince20: Pydantic V1 style `@validator` validators are deprecated. You should migrate to Pydantic V2 style `@field_validator` validators, see the migration guide for more details. Deprecated in Pydantic V2.0 to be removed in V3.0. See Pydantic V2 Migration Guide at https://errors.pydantic.dev/2.11/migration/\n",
      "  @validator('route_decision')\n",
      "/Users/myatkaung/Desktop/LLM_PROJECTS/AgenticAI/venv/lib/python3.10/site-packages/pydantic/_internal/_config.py:373: UserWarning: Valid config keys have changed in V2:\n",
      "* 'allow_mutation' has been removed\n",
      "  warnings.warn(message, UserWarning)\n"
     ]
    }
   ],
   "source": [
    "# Define the state structure using Pydantic\n",
    "class WorkflowState(BaseModel):\n",
    "    query: str = Field(..., description=\"The user's input query\")\n",
    "    route_decision: str = Field(default=\"\", description=\"Supervisor's routing decision\")\n",
    "    llm_response: str = Field(default=\"\", description=\"Response from LLM node\")\n",
    "    rag_response: str = Field(default=\"\", description=\"Response from RAG node\")\n",
    "    web_response: str = Field(default=\"\", description=\"Response from web crawler node\")\n",
    "    validation_result: bool = Field(default=False, description=\"Validation result\")\n",
    "    validation_feedback: str = Field(default=\"\", description=\"Validation feedback\")\n",
    "    final_output: str = Field(default=\"\", description=\"Final validated output\")\n",
    "    retry_count: int = Field(default=0, ge=0, description=\"Current retry count\")\n",
    "    max_retries: int = Field(default=2, ge=1, le=5, description=\"Maximum retry attempts\")\n",
    "    \n",
    "    @validator('query')\n",
    "    def validate_query(cls, v):\n",
    "        if not v or not v.strip():\n",
    "            raise ValueError('Query cannot be empty')\n",
    "        return v.strip()\n",
    "    \n",
    "    @validator('route_decision')\n",
    "    def validate_route_decision(cls, v):\n",
    "        if v and v not in ['llm', 'rag', 'web_crawler', '']:\n",
    "            raise ValueError('Invalid route decision')\n",
    "        return v\n",
    "    \n",
    "    class Config:\n",
    "        # Allow mutation for LangGraph state updates\n",
    "        allow_mutation = True\n",
    "        # Validate assignment to ensure data integrity\n",
    "        validate_assignment = True"
   ]
  },
  {
   "cell_type": "code",
   "execution_count": 4,
   "metadata": {
    "execution": {
     "iopub.execute_input": "2025-06-11T06:20:01.135049Z",
     "iopub.status.busy": "2025-06-11T06:20:01.134919Z",
     "iopub.status.idle": "2025-06-11T06:20:08.259222Z",
     "shell.execute_reply": "2025-06-11T06:20:08.258816Z"
    }
   },
   "outputs": [
    {
     "name": "stderr",
     "output_type": "stream",
     "text": [
      "/var/folders/bl/xc5d5vc16wx60khkhwlcs3m40000gn/T/ipykernel_93589/3019904154.py:6: LangChainDeprecationWarning: The class `HuggingFaceEmbeddings` was deprecated in LangChain 0.2.2 and will be removed in 1.0. An updated version of the class exists in the :class:`~langchain-huggingface package and should be used instead. To use it run `pip install -U :class:`~langchain-huggingface` and import as `from :class:`~langchain_huggingface import HuggingFaceEmbeddings``.\n",
      "  embeddings = HuggingFaceEmbeddings(model_name=\"sentence-transformers/all-MiniLM-L6-v2\")\n"
     ]
    }
   ],
   "source": [
    "# Initialize models and tools\n",
    "llm = ChatGroq(model=\"gemma2-9b-it\", temperature=0.1)\n",
    "tavily_search = TavilySearchResults(max_results=3)\n",
    "\n",
    "# Initialize embeddings for RAG\n",
    "embeddings = HuggingFaceEmbeddings(model_name=\"sentence-transformers/all-MiniLM-L6-v2\")"
   ]
  },
  {
   "cell_type": "code",
   "execution_count": 5,
   "metadata": {
    "execution": {
     "iopub.execute_input": "2025-06-11T06:20:08.261256Z",
     "iopub.status.busy": "2025-06-11T06:20:08.260706Z",
     "iopub.status.idle": "2025-06-11T06:20:08.502661Z",
     "shell.execute_reply": "2025-06-11T06:20:08.502406Z"
    }
   },
   "outputs": [],
   "source": [
    "# Create sample knowledge base for RAG\n",
    "sample_documents = [\n",
    "    \"Artificial Intelligence (AI) is a branch of computer science that aims to create intelligent machines.\",\n",
    "    \"Machine Learning is a subset of AI that enables computers to learn without being explicitly programmed.\",\n",
    "    \"Deep Learning uses neural networks with multiple layers to model and understand complex patterns.\",\n",
    "    \"Natural Language Processing (NLP) helps computers understand and interpret human language.\",\n",
    "    \"Computer Vision enables machines to interpret and understand visual information from the world.\",\n",
    "    \"Reinforcement Learning is a type of machine learning where agents learn through interaction with environment.\",\n",
    "    \"Large Language Models (LLMs) are AI models trained on vast amounts of text data to understand and generate human-like text.\",\n",
    "    \"Generative AI refers to artificial intelligence that can create new content, including text, images, audio, and video.\",\n",
    "    \"Transformer architecture revolutionized NLP and is the foundation for models like GPT and BERT.\",\n",
    "    \"Prompt engineering is the practice of designing inputs to get desired outputs from AI models.\"\n",
    "]\n",
    "\n",
    "# Create vector store\n",
    "text_splitter = RecursiveCharacterTextSplitter(chunk_size=200, chunk_overlap=20)\n",
    "docs = text_splitter.create_documents(sample_documents)\n",
    "vectorstore = FAISS.from_documents(docs, embeddings)"
   ]
  },
  {
   "cell_type": "code",
   "execution_count": 6,
   "metadata": {
    "execution": {
     "iopub.execute_input": "2025-06-11T06:20:08.504058Z",
     "iopub.status.busy": "2025-06-11T06:20:08.503953Z",
     "iopub.status.idle": "2025-06-11T06:20:08.505866Z",
     "shell.execute_reply": "2025-06-11T06:20:08.505639Z"
    }
   },
   "outputs": [],
   "source": [
    "# 1. Supervisor Node\n",
    "def supervisor_node(state: WorkflowState) -> WorkflowState:\n",
    "    \"\"\"\n",
    "    Supervisor node that analyzes the query and decides which processing node to use\n",
    "    \"\"\"\n",
    "    query = state.query\n",
    "    \n",
    "    # Router logic\n",
    "    route_decision = router_function(query)\n",
    "    \n",
    "    state.route_decision = route_decision\n",
    "    \n",
    "    print(f\"🎯 Supervisor Decision: Routing to {route_decision} node\")\n",
    "    \n",
    "    return state"
   ]
  },
  {
   "cell_type": "code",
   "execution_count": 7,
   "metadata": {
    "execution": {
     "iopub.execute_input": "2025-06-11T06:20:08.506993Z",
     "iopub.status.busy": "2025-06-11T06:20:08.506885Z",
     "iopub.status.idle": "2025-06-11T06:20:08.509026Z",
     "shell.execute_reply": "2025-06-11T06:20:08.508816Z"
    }
   },
   "outputs": [],
   "source": [
    "# 2. Router Function\n",
    "def router_function(query: str) -> str:\n",
    "    \"\"\"\n",
    "    Determines which node should handle the query based on content analysis\n",
    "    \"\"\"\n",
    "    query_lower = query.lower()\n",
    "    \n",
    "    # Keywords for different routes\n",
    "    web_keywords = [\"current\", \"latest\", \"news\", \"today\", \"recent\", \"2024\", \"2023\", \"now\", \"real-time\"]\n",
    "    rag_keywords = [\"ai\", \"machine learning\", \"deep learning\", \"nlp\", \"artificial intelligence\", \"neural network\", \"transformer\"]\n",
    "    \n",
    "    # Check for web search indicators\n",
    "    if any(keyword in query_lower for keyword in web_keywords):\n",
    "        return \"web_crawler\"\n",
    "    \n",
    "    # Check for RAG indicators\n",
    "    elif any(keyword in query_lower for keyword in rag_keywords):\n",
    "        return \"rag\"\n",
    "    \n",
    "    # Default to LLM for general queries\n",
    "    else:\n",
    "        return \"llm\""
   ]
  },
  {
   "cell_type": "code",
   "execution_count": 8,
   "metadata": {
    "execution": {
     "iopub.execute_input": "2025-06-11T06:20:08.510238Z",
     "iopub.status.busy": "2025-06-11T06:20:08.510090Z",
     "iopub.status.idle": "2025-06-11T06:20:08.512063Z",
     "shell.execute_reply": "2025-06-11T06:20:08.511860Z"
    }
   },
   "outputs": [],
   "source": [
    "# 3.1 LLM Node\n",
    "def llm_node(state: WorkflowState) -> WorkflowState:\n",
    "    \"\"\"\n",
    "    Processes query using LLM for general knowledge and reasoning\n",
    "    \"\"\"\n",
    "    query = state.query\n",
    "    \n",
    "    prompt = ChatPromptTemplate.from_messages([\n",
    "        (\"system\", \"You are a helpful AI assistant. Provide accurate and comprehensive answers to user questions.\"),\n",
    "        (\"human\", \"{query}\")\n",
    "    ])\n",
    "    \n",
    "    chain = prompt | llm\n",
    "    response = chain.invoke({\"query\": query})\n",
    "    \n",
    "    state.llm_response = response.content\n",
    "    \n",
    "    print(f\"🤖 LLM Response Generated: {len(response.content)} characters\")\n",
    "    \n",
    "    return state"
   ]
  },
  {
   "cell_type": "code",
   "execution_count": 9,
   "metadata": {
    "execution": {
     "iopub.execute_input": "2025-06-11T06:20:08.513221Z",
     "iopub.status.busy": "2025-06-11T06:20:08.513137Z",
     "iopub.status.idle": "2025-06-11T06:20:08.515361Z",
     "shell.execute_reply": "2025-06-11T06:20:08.515154Z"
    }
   },
   "outputs": [],
   "source": [
    "# 3.2 RAG Node\n",
    "def rag_node(state: WorkflowState) -> WorkflowState:\n",
    "    \"\"\"\n",
    "    Processes query using RAG (Retrieval Augmented Generation)\n",
    "    \"\"\"\n",
    "    query = state.query\n",
    "    \n",
    "    # Retrieve relevant documents\n",
    "    retriever = vectorstore.as_retriever(search_kwargs={\"k\": 3})\n",
    "    relevant_docs = retriever.get_relevant_documents(query)\n",
    "    \n",
    "    # Combine retrieved context\n",
    "    context = \"\\n\".join([doc.page_content for doc in relevant_docs])\n",
    "    \n",
    "    # Generate response using context\n",
    "    prompt = ChatPromptTemplate.from_messages([\n",
    "        (\"system\", \"You are a helpful AI assistant. Use the provided context to answer the user's question accurately. If the context doesn't contain relevant information, say so.\"),\n",
    "        (\"human\", \"Context: {context}\\n\\nQuestion: {query}\")\n",
    "    ])\n",
    "    \n",
    "    chain = prompt | llm\n",
    "    response = chain.invoke({\"context\": context, \"query\": query})\n",
    "    \n",
    "    state.rag_response = response.content\n",
    "    \n",
    "    print(f\"📚 RAG Response Generated using {len(relevant_docs)} documents\")\n",
    "    \n",
    "    return state"
   ]
  },
  {
   "cell_type": "code",
   "execution_count": 10,
   "metadata": {
    "execution": {
     "iopub.execute_input": "2025-06-11T06:20:08.516444Z",
     "iopub.status.busy": "2025-06-11T06:20:08.516370Z",
     "iopub.status.idle": "2025-06-11T06:20:08.518945Z",
     "shell.execute_reply": "2025-06-11T06:20:08.518713Z"
    }
   },
   "outputs": [],
   "source": [
    "# 3.3 Web Crawler Node\n",
    "def web_crawler_node(state: WorkflowState) -> WorkflowState:\n",
    "    \"\"\"\n",
    "    Fetches real-time information from the internet using Tavily\n",
    "    \"\"\"\n",
    "    query = state.query\n",
    "    \n",
    "    try:\n",
    "        # Search the web\n",
    "        search_results = tavily_search.invoke(query)\n",
    "        \n",
    "        # Extract and format results\n",
    "        web_content = []\n",
    "        for result in search_results:\n",
    "            web_content.append(f\"Title: {result.get('title', 'N/A')}\\nContent: {result.get('content', 'N/A')}\\nURL: {result.get('url', 'N/A')}\")\n",
    "        \n",
    "        combined_content = \"\\n\\n---\\n\\n\".join(web_content)\n",
    "        \n",
    "        # Generate response using web content\n",
    "        prompt = ChatPromptTemplate.from_messages([\n",
    "            (\"system\", \"You are a helpful AI assistant. Use the provided web search results to answer the user's question with current and accurate information.\"),\n",
    "            (\"human\", \"Web Search Results: {web_content}\\n\\nQuestion: {query}\")\n",
    "        ])\n",
    "        \n",
    "        chain = prompt | llm\n",
    "        response = chain.invoke({\"web_content\": combined_content, \"query\": query})\n",
    "        \n",
    "        state.web_response = response.content\n",
    "        \n",
    "        print(f\"🌐 Web Crawler Response Generated using {len(search_results)} search results\")\n",
    "        \n",
    "    except Exception as e:\n",
    "        state.web_response = f\"Error fetching web results: {str(e)}\"\n",
    "        print(f\"❌ Web Crawler Error: {str(e)}\")\n",
    "    \n",
    "    return state"
   ]
  },
  {
   "cell_type": "code",
   "execution_count": 11,
   "metadata": {
    "execution": {
     "iopub.execute_input": "2025-06-11T06:20:08.520052Z",
     "iopub.status.busy": "2025-06-11T06:20:08.519962Z",
     "iopub.status.idle": "2025-06-11T06:20:08.522677Z",
     "shell.execute_reply": "2025-06-11T06:20:08.522429Z"
    }
   },
   "outputs": [],
   "source": [
    "# 4. Validation Node\n",
    "def validation_node(state: WorkflowState) -> WorkflowState:\n",
    "    \"\"\"\n",
    "    Validates the generated output for quality and relevance\n",
    "    \"\"\"\n",
    "    query = state.query\n",
    "    route_decision = state.route_decision\n",
    "    \n",
    "    # Get the response based on route decision\n",
    "    if route_decision == \"llm\":\n",
    "        response_to_validate = state.llm_response\n",
    "    elif route_decision == \"rag\":\n",
    "        response_to_validate = state.rag_response\n",
    "    elif route_decision == \"web_crawler\":\n",
    "        response_to_validate = state.web_response\n",
    "    else:\n",
    "        response_to_validate = \"\"\n",
    "    \n",
    "    # Validation criteria\n",
    "    validation_prompt = ChatPromptTemplate.from_messages([\n",
    "        (\"system\", \"You are a quality validator. Evaluate if the response adequately answers the question.\\n\\nValidation criteria:\\n1. Relevance: Does the response address the question?\\n2. Completeness: Is the answer comprehensive?\\n3. Accuracy: Does the response seem factually correct?\\n4. Clarity: Is the response clear and well-structured?\\n\\nRespond with 'PASS' if the response meets all criteria, or 'FAIL' with specific feedback if it doesn't.\"),\n",
    "        (\"human\", \"Question: {query}\\n\\nResponse to validate: {response}\\n\\nValidation result:\")\n",
    "    ])\n",
    "    \n",
    "    chain = validation_prompt | llm\n",
    "    validation_result = chain.invoke({\"query\": query, \"response\": response_to_validate})\n",
    "    \n",
    "    # Parse validation result\n",
    "    validation_content = validation_result.content.strip()\n",
    "    is_valid = validation_content.startswith(\"PASS\")\n",
    "    \n",
    "    state.validation_result = is_valid\n",
    "    state.validation_feedback = validation_content\n",
    "    \n",
    "    if is_valid:\n",
    "        print(f\"✅ Validation PASSED\")\n",
    "        state.final_output = response_to_validate\n",
    "    else:\n",
    "        print(f\"❌ Validation FAILED: {validation_content}\")\n",
    "        state.retry_count = state.retry_count + 1\n",
    "    \n",
    "    return state"
   ]
  },
  {
   "cell_type": "code",
   "execution_count": 12,
   "metadata": {
    "execution": {
     "iopub.execute_input": "2025-06-11T06:20:08.523748Z",
     "iopub.status.busy": "2025-06-11T06:20:08.523677Z",
     "iopub.status.idle": "2025-06-11T06:20:08.525785Z",
     "shell.execute_reply": "2025-06-11T06:20:08.525570Z"
    }
   },
   "outputs": [],
   "source": [
    "# Router function for workflow navigation\n",
    "def route_after_supervisor(state: WorkflowState) -> str:\n",
    "    \"\"\"Route to appropriate processing node based on supervisor decision\"\"\"\n",
    "    return state.route_decision\n",
    "\n",
    "def route_after_validation(state: WorkflowState) -> str:\n",
    "    \"\"\"Route based on validation result\"\"\"\n",
    "    if state.validation_result:\n",
    "        return \"end\"\n",
    "    elif state.retry_count >= state.max_retries:\n",
    "        print(f\"🚫 Maximum retries ({state.max_retries}) reached. Ending workflow.\")\n",
    "        state.final_output = f\"Unable to generate satisfactory response after {state.max_retries} attempts. Last feedback: {state.validation_feedback}\"\n",
    "        return \"end\"\n",
    "    else:\n",
    "        print(f\"🔄 Retry attempt {state.retry_count}/{state.max_retries}\")\n",
    "        return \"supervisor\""
   ]
  },
  {
   "cell_type": "code",
   "execution_count": 13,
   "metadata": {
    "execution": {
     "iopub.execute_input": "2025-06-11T06:20:08.526844Z",
     "iopub.status.busy": "2025-06-11T06:20:08.526758Z",
     "iopub.status.idle": "2025-06-11T06:20:08.532421Z",
     "shell.execute_reply": "2025-06-11T06:20:08.532154Z"
    }
   },
   "outputs": [],
   "source": [
    "# Build the workflow graph\n",
    "workflow = StateGraph(WorkflowState)\n",
    "\n",
    "# Add nodes\n",
    "workflow.add_node(\"supervisor\", supervisor_node)\n",
    "workflow.add_node(\"llm\", llm_node)\n",
    "workflow.add_node(\"rag\", rag_node)\n",
    "workflow.add_node(\"web_crawler\", web_crawler_node)\n",
    "workflow.add_node(\"validation\", validation_node)\n",
    "\n",
    "# Set entry point\n",
    "workflow.set_entry_point(\"supervisor\")\n",
    "\n",
    "# Add conditional edges from supervisor\n",
    "workflow.add_conditional_edges(\n",
    "    \"supervisor\",\n",
    "    route_after_supervisor,\n",
    "    {\n",
    "        \"llm\": \"llm\",\n",
    "        \"rag\": \"rag\",\n",
    "        \"web_crawler\": \"web_crawler\"\n",
    "    }\n",
    ")\n",
    "\n",
    "# Add edges from processing nodes to validation\n",
    "workflow.add_edge(\"llm\", \"validation\")\n",
    "workflow.add_edge(\"rag\", \"validation\")\n",
    "workflow.add_edge(\"web_crawler\", \"validation\")\n",
    "\n",
    "# Add conditional edges from validation\n",
    "workflow.add_conditional_edges(\n",
    "    \"validation\",\n",
    "    route_after_validation,\n",
    "    {\n",
    "        \"supervisor\": \"supervisor\",\n",
    "        \"end\": END\n",
    "    }\n",
    ")\n",
    "\n",
    "# Compile the workflow\n",
    "app = workflow.compile()"
   ]
  },
  {
   "cell_type": "code",
   "execution_count": 14,
   "metadata": {
    "execution": {
     "iopub.execute_input": "2025-06-11T06:20:08.533510Z",
     "iopub.status.busy": "2025-06-11T06:20:08.533437Z",
     "iopub.status.idle": "2025-06-11T06:20:08.612692Z",
     "shell.execute_reply": "2025-06-11T06:20:08.612348Z"
    }
   },
   "outputs": [
    {
     "data": {
      "image/png": "[encoded data removed]",
      "text/plain": [
       "<IPython.core.display.Image object>"
      ]
     },
     "metadata": {},
     "output_type": "display_data"
    }
   ],
   "source": [
    "# Visualize the workflow\n",
    "from IPython.display import Image, display\n",
    "\n",
    "try:\n",
    "    display(Image(app.get_graph().draw_mermaid_png()))\n",
    "except Exception as e:\n",
    "    print(f\"Could not display graph: {e}\")\n",
    "    print(\"Graph structure:\")\n",
    "    print(app.get_graph())"
   ]
  },
  {
   "cell_type": "code",
   "execution_count": 15,
   "metadata": {
    "execution": {
     "iopub.execute_input": "2025-06-11T06:20:08.614504Z",
     "iopub.status.busy": "2025-06-11T06:20:08.614380Z",
     "iopub.status.idle": "2025-06-11T06:20:08.617125Z",
     "shell.execute_reply": "2025-06-11T06:20:08.616862Z"
    }
   },
   "outputs": [],
   "source": [
    "# Test function\n",
    "def test_workflow(query: str, max_retries: int = 2):\n",
    "    \"\"\"Test the workflow with a given query\"\"\"\n",
    "    print(f\"\\n{'='*60}\")\n",
    "    print(f\"🚀 Testing Query: {query}\")\n",
    "    print(f\"{'='*60}\\n\")\n",
    "    \n",
    "    # Initialize state using Pydantic model\n",
    "    initial_state = WorkflowState(\n",
    "        query=query,\n",
    "        max_retries=max_retries\n",
    "    ).dict()  # Convert to dict for LangGraph compatibility\n",
    "    \n",
    "    # Run the workflow\n",
    "    result = app.invoke(initial_state)\n",
    "    \n",
    "    print(f\"\\n{'='*60}\")\n",
    "    print(f\"📋 FINAL RESULT\")\n",
    "    print(f\"{'='*60}\")\n",
    "    print(f\"Query: {result['query']}\")\n",
    "    print(f\"Route: {result['route_decision']}\")\n",
    "    print(f\"Validation: {'✅ PASSED' if result['validation_result'] else '❌ FAILED'}\")\n",
    "    print(f\"Retries: {result['retry_count']}/{result['max_retries']}\")\n",
    "    print(f\"\\nFinal Output:\\n{result['final_output']}\")\n",
    "    print(f\"\\n{'='*60}\\n\")\n",
    "    \n",
    "    return result"
   ]
  },
  {
   "cell_type": "code",
   "execution_count": 16,
   "metadata": {
    "execution": {
     "iopub.execute_input": "2025-06-11T06:20:08.618392Z",
     "iopub.status.busy": "2025-06-11T06:20:08.618278Z",
     "iopub.status.idle": "2025-06-11T06:20:11.305051Z",
     "shell.execute_reply": "2025-06-11T06:20:11.304598Z"
    }
   },
   "outputs": [
    {
     "name": "stdout",
     "output_type": "stream",
     "text": [
      "\n",
      "============================================================\n",
      "🚀 Testing Query: What is the capital of France and why is it important?\n",
      "============================================================\n",
      "\n",
      "🎯 Supervisor Decision: Routing to llm node\n"
     ]
    },
    {
     "name": "stderr",
     "output_type": "stream",
     "text": [
      "/var/folders/bl/xc5d5vc16wx60khkhwlcs3m40000gn/T/ipykernel_93589/3318342660.py:12: PydanticDeprecatedSince20: The `dict` method is deprecated; use `model_dump` instead. Deprecated in Pydantic V2.0 to be removed in V3.0. See Pydantic V2 Migration Guide at https://errors.pydantic.dev/2.11/migration/\n",
      "  ).dict()  # Convert to dict for LangGraph compatibility\n",
      "huggingface/tokenizers: The current process just got forked, after parallelism has already been used. Disabling parallelism to avoid deadlocks...\n",
      "To disable this warning, you can either:\n",
      "\t- Avoid using `tokenizers` before the fork if possible\n",
      "\t- Explicitly set the environment variable TOKENIZERS_PARALLELISM=(true | false)\n"
     ]
    },
    {
     "name": "stdout",
     "output_type": "stream",
     "text": [
      "🤖 LLM Response Generated: 1003 characters\n"
     ]
    },
    {
     "name": "stdout",
     "output_type": "stream",
     "text": [
      "❌ Validation FAILED: Validation result: **PASS** \n",
      "\n",
      "The response accurately answers the question, providing a clear and comprehensive explanation of Paris's importance as the capital of France.\n",
      "🔄 Retry attempt 1/2\n",
      "🎯 Supervisor Decision: Routing to llm node\n"
     ]
    },
    {
     "name": "stdout",
     "output_type": "stream",
     "text": [
      "🤖 LLM Response Generated: 1136 characters\n"
     ]
    },
    {
     "name": "stdout",
     "output_type": "stream",
     "text": [
      "✅ Validation PASSED\n",
      "\n",
      "============================================================\n",
      "📋 FINAL RESULT\n",
      "============================================================\n",
      "Query: What is the capital of France and why is it important?\n",
      "Route: llm\n",
      "Validation: ✅ PASSED\n",
      "Retries: 1/2\n",
      "\n",
      "Final Output:\n",
      "The capital of France is **Paris**. \n",
      "\n",
      "Here's why it's important:\n",
      "\n",
      "* **Political Center:** Paris is the seat of the French government, housing the Élysée Palace (presidential residence), the National Assembly, and the Senate. \n",
      "* **Cultural Hub:**  Paris is renowned worldwide for its art, fashion, cuisine, and history. It's home to iconic landmarks like the Eiffel Tower, the Louvre Museum, and Notre Dame Cathedral, attracting millions of tourists annually.\n",
      "* **Economic Powerhouse:** Paris is a major financial and commercial center in Europe, with a thriving business district and a significant influence on global markets.\n",
      "* **Historical Significance:** Paris has played a pivotal role in French history, witnessing numerous revolutions, wars, and cultural movements. Its rich past is reflected in its architecture, museums, and cultural institutions.\n",
      "* **International Influence:** As the capital of a major world power, Paris exerts considerable influence on international affairs, diplomacy, and culture.\n",
      "\n",
      "\n",
      "Paris is more than just a city; it's a symbol of France itself, representing its history, culture, and global standing. \n",
      "\n",
      "\n",
      "\n",
      "============================================================\n",
      "\n"
     ]
    }
   ],
   "source": [
    "# Test Case 1: General LLM Query\n",
    "result1 = test_workflow(\"What is the capital of France and why is it important?\")"
   ]
  },
  {
   "cell_type": "code",
   "execution_count": 17,
   "metadata": {
    "execution": {
     "iopub.execute_input": "2025-06-11T06:20:11.307005Z",
     "iopub.status.busy": "2025-06-11T06:20:11.306858Z",
     "iopub.status.idle": "2025-06-11T06:20:12.648410Z",
     "shell.execute_reply": "2025-06-11T06:20:12.647973Z"
    }
   },
   "outputs": [
    {
     "name": "stdout",
     "output_type": "stream",
     "text": [
      "\n",
      "============================================================\n",
      "🚀 Testing Query: Explain machine learning and its applications in artificial intelligence\n",
      "============================================================\n",
      "\n",
      "🎯 Supervisor Decision: Routing to rag node\n"
     ]
    },
    {
     "name": "stderr",
     "output_type": "stream",
     "text": [
      "/var/folders/bl/xc5d5vc16wx60khkhwlcs3m40000gn/T/ipykernel_93589/3318342660.py:12: PydanticDeprecatedSince20: The `dict` method is deprecated; use `model_dump` instead. Deprecated in Pydantic V2.0 to be removed in V3.0. See Pydantic V2 Migration Guide at https://errors.pydantic.dev/2.11/migration/\n",
      "  ).dict()  # Convert to dict for LangGraph compatibility\n",
      "/var/folders/bl/xc5d5vc16wx60khkhwlcs3m40000gn/T/ipykernel_93589/927894406.py:10: LangChainDeprecationWarning: The method `BaseRetriever.get_relevant_documents` was deprecated in langchain-core 0.1.46 and will be removed in 1.0. Use :meth:`~invoke` instead.\n",
      "  relevant_docs = retriever.get_relevant_documents(query)\n"
     ]
    },
    {
     "name": "stdout",
     "output_type": "stream",
     "text": [
      "📚 RAG Response Generated using 3 documents\n"
     ]
    },
    {
     "name": "stdout",
     "output_type": "stream",
     "text": [
      "✅ Validation PASSED\n",
      "\n",
      "============================================================\n",
      "📋 FINAL RESULT\n",
      "============================================================\n",
      "Query: Explain machine learning and its applications in artificial intelligence\n",
      "Route: rag\n",
      "Validation: ✅ PASSED\n",
      "Retries: 0/2\n",
      "\n",
      "Final Output:\n",
      "Machine learning is a type of artificial intelligence (AI) that allows computers to learn from data without being explicitly programmed. \n",
      "\n",
      "Instead of relying on specific instructions, machine learning algorithms identify patterns and relationships within data, enabling them to make predictions or decisions. \n",
      "\n",
      "Here are some applications of machine learning in AI:\n",
      "\n",
      "* **Image Recognition:**  As mentioned in the context, computer vision, which uses machine learning, allows machines to \"see\" and interpret images, identifying objects, faces, and scenes. This is used in applications like self-driving cars, medical imaging analysis, and facial recognition.\n",
      "* **Natural Language Processing (NLP):** Machine learning powers chatbots, language translation tools, and text summarization software by enabling computers to understand and generate human language.\n",
      "* **Recommendation Systems:**  Streaming services and e-commerce platforms use machine learning to analyze user preferences and recommend movies, music, or products they might enjoy.\n",
      "* **Fraud Detection:** Machine learning algorithms can detect unusual patterns in financial transactions, helping identify and prevent fraudulent activity.\n",
      "\n",
      "\n",
      "These are just a few examples. Machine learning is a rapidly evolving field with applications across many industries. \n",
      "\n",
      "\n",
      "\n",
      "============================================================\n",
      "\n"
     ]
    }
   ],
   "source": [
    "# Test Case 2: RAG Query (AI-related)\n",
    "result2 = test_workflow(\"Explain machine learning and its applications in artificial intelligence\")"
   ]
  },
  {
   "cell_type": "code",
   "execution_count": 18,
   "metadata": {
    "execution": {
     "iopub.execute_input": "2025-06-11T06:20:12.650235Z",
     "iopub.status.busy": "2025-06-11T06:20:12.650062Z",
     "iopub.status.idle": "2025-06-11T06:20:18.764584Z",
     "shell.execute_reply": "2025-06-11T06:20:18.764312Z"
    }
   },
   "outputs": [
    {
     "name": "stdout",
     "output_type": "stream",
     "text": [
      "\n",
      "============================================================\n",
      "🚀 Testing Query: What are the latest developments in AI technology in 2024?\n",
      "============================================================\n",
      "\n",
      "🎯 Supervisor Decision: Routing to web_crawler node\n"
     ]
    },
    {
     "name": "stderr",
     "output_type": "stream",
     "text": [
      "/var/folders/bl/xc5d5vc16wx60khkhwlcs3m40000gn/T/ipykernel_93589/3318342660.py:12: PydanticDeprecatedSince20: The `dict` method is deprecated; use `model_dump` instead. Deprecated in Pydantic V2.0 to be removed in V3.0. See Pydantic V2 Migration Guide at https://errors.pydantic.dev/2.11/migration/\n",
      "  ).dict()  # Convert to dict for LangGraph compatibility\n"
     ]
    },
    {
     "name": "stdout",
     "output_type": "stream",
     "text": [
      "🌐 Web Crawler Response Generated using 3 search results\n"
     ]
    },
    {
     "name": "stdout",
     "output_type": "stream",
     "text": [
      "✅ Validation PASSED\n",
      "\n",
      "============================================================\n",
      "📋 FINAL RESULT\n",
      "============================================================\n",
      "Query: What are the latest developments in AI technology in 2024?\n",
      "Route: web_crawler\n",
      "Validation: ✅ PASSED\n",
      "Retries: 0/2\n",
      "\n",
      "Final Output:\n",
      "Based on the provided web search results, here are some of the latest developments in AI technology in 2024:\n",
      "\n",
      "* **Focus on Generative AI:** 2024 has seen significant breakthroughs in Generative AI (GenAI), with advancements influencing various sectors like healthcare, IT, retail, and defense.\n",
      "\n",
      "* **Multimodal AI:**  Models like Google's Gemini can process not only text but also images and videos, opening up new possibilities for applications.\n",
      "\n",
      "* **Democratization of AI:** Platforms are emerging that allow users to customize and create their own AI models without coding expertise, making AI more accessible to the general public.\n",
      "\n",
      "* **Chatbot Explosion:**  Chatbot applications are proliferating, with capabilities like voice cloning, image generation, music making, and realistic video generation.\n",
      "\n",
      "* **Real-Time AI Insights:** Tools like IBM's Concert leverage real-time AI insights to help manage complex systems, diagnose issues, and automate fixes.\n",
      "\n",
      "\n",
      "These developments suggest that AI is becoming increasingly powerful, versatile, and accessible, with the potential to transform various aspects of our lives. \n",
      "\n",
      "\n",
      "============================================================\n",
      "\n"
     ]
    }
   ],
   "source": [
    "# Test Case 3: Web Search Query (Current events)\n",
    "result3 = test_workflow(\"What are the latest developments in AI technology in 2024?\")"
   ]
  },
  {
   "cell_type": "code",
   "execution_count": 19,
   "metadata": {
    "execution": {
     "iopub.execute_input": "2025-06-11T06:20:18.765775Z",
     "iopub.status.busy": "2025-06-11T06:20:18.765666Z",
     "iopub.status.idle": "2025-06-11T06:20:24.554613Z",
     "shell.execute_reply": "2025-06-11T06:20:24.554189Z"
    }
   },
   "outputs": [
    {
     "name": "stdout",
     "output_type": "stream",
     "text": [
      "\n",
      "============================================================\n",
      "🚀 Testing Query: What are the latest developments in artificial intelligence?\n",
      "============================================================\n",
      "\n",
      "🎯 Supervisor Decision: Routing to web_crawler node\n"
     ]
    },
    {
     "name": "stderr",
     "output_type": "stream",
     "text": [
      "/var/folders/bl/xc5d5vc16wx60khkhwlcs3m40000gn/T/ipykernel_93589/3318342660.py:12: PydanticDeprecatedSince20: The `dict` method is deprecated; use `model_dump` instead. Deprecated in Pydantic V2.0 to be removed in V3.0. See Pydantic V2 Migration Guide at https://errors.pydantic.dev/2.11/migration/\n",
      "  ).dict()  # Convert to dict for LangGraph compatibility\n"
     ]
    },
    {
     "name": "stdout",
     "output_type": "stream",
     "text": [
      "🌐 Web Crawler Response Generated using 2 search results\n"
     ]
    },
    {
     "name": "stdout",
     "output_type": "stream",
     "text": [
      "✅ Validation PASSED\n",
      "\n",
      "============================================================\n",
      "📋 FINAL RESULT\n",
      "============================================================\n",
      "Query: What are the latest developments in artificial intelligence?\n",
      "Route: web_crawler\n",
      "Validation: ✅ PASSED\n",
      "Retries: 0/2\n",
      "\n",
      "Final Output:\n",
      "Here are some of the latest developments in artificial intelligence, based on the provided web search results:\n",
      "\n",
      "* **Agentic AI:**  AI agents are becoming more sophisticated, capable of making decisions and taking actions autonomously. Google's Gemini 2.0 is a prime example, offering agentic capabilities for developers, enterprises, and individuals. This has implications for various sectors, including banking, healthcare, and even warfare (as seen in Ukraine's \"Operation Spider Web\").\n",
      "\n",
      "* **Multi-Modal AI:** AI models are increasingly able to process and understand multiple types of data, such as text, images, and speech. This opens up new possibilities for applications like more natural and intuitive human-computer interaction.\n",
      "\n",
      "* **Quantum AI:** This emerging field leverages quantum computing to enhance AI algorithms, potentially leading to breakthroughs in areas like complex system optimization, material science, and encryption.\n",
      "\n",
      "* **AI-Powered Video and Image Generation:**  Models like Google's Veo 2 and Imagen 3 are achieving state-of-the-art results in generating realistic videos and images, pushing the boundaries of creative applications.\n",
      "\n",
      "* **Explainable AI:**  There's a growing focus on making AI decision-making more transparent and understandable to humans. This is crucial for building trust and ensuring responsible use of AI.\n",
      "\n",
      "\n",
      "These are just a few highlights. The field of AI is constantly evolving, with new breakthroughs and applications emerging all the time. \n",
      "\n",
      "\n",
      "============================================================\n",
      "\n"
     ]
    }
   ],
   "source": [
    "# Test Case 4: Custom Query\n",
    "# For automated testing, using a predefined query instead of input()\n",
    "custom_query = \"What are the latest developments in artificial intelligence?\"\n",
    "if custom_query.strip():\n",
    "    result4 = test_workflow(custom_query)"
   ]
  },
  {
   "cell_type": "markdown",
   "metadata": {},
   "source": [
    "## Workflow Summary\n",
    "\n",
    "This implementation includes:\n",
    "\n",
    "1. **Supervisor Node**: Analyzes queries and routes them to appropriate processing nodes\n",
    "2. **Router Function**: Intelligent routing based on query content and keywords\n",
    "3. **Three Processing Nodes**:\n",
    "   - **LLM Node**: General knowledge and reasoning using Groq\n",
    "   - **RAG Node**: Knowledge retrieval from local vector database\n",
    "   - **Web Crawler Node**: Real-time information using Tavily API\n",
    "4. **Validation Node**: Quality assessment with retry logic\n",
    "5. **Retry Mechanism**: Automatic retry with supervisor re-routing on validation failure\n",
    "6. **Final Output**: Validated and approved responses\n",
    "\n",
    "### Key Features:\n",
    "- Intelligent routing based on query analysis\n",
    "- Quality validation with specific criteria\n",
    "- Retry mechanism with configurable limits\n",
    "- Real-time web search capabilities\n",
    "- Local knowledge base integration\n",
    "- Comprehensive error handling\n",
    "- Visual workflow representation"
   ]
  }
 ],
 "metadata": {
  "kernelspec": {
   "display_name": "Python 3",
   "language": "python",
   "name": "python3"
  },
  "language_info": {
   "codemirror_mode": {
    "name": "ipython",
    "version": 3
   },
   "file_extension": ".py",
   "mimetype": "text/x-python",
   "name": "python",
   "nbconvert_exporter": "python",
   "pygments_lexer": "ipython3",
   "version": "3.10.16"
  }
 },
 "nbformat": 4,
 "nbformat_minor": 4
}
